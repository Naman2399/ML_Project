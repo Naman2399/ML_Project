{
 "cells": [
  {
   "cell_type": "code",
   "id": "initial_id",
   "metadata": {
    "collapsed": true,
    "ExecuteTime": {
     "end_time": "2024-05-13T05:31:33.541174Z",
     "start_time": "2024-05-13T05:31:33.135869Z"
    }
   },
   "source": "import numpy as np",
   "execution_count": 1,
   "outputs": []
  },
  {
   "metadata": {
    "ExecuteTime": {
     "end_time": "2024-05-13T05:43:58.620219Z",
     "start_time": "2024-05-13T05:43:58.617158Z"
    }
   },
   "cell_type": "code",
   "source": [
    "from torchvision import models\n",
    "from torchvision.models import ResNet101_Weights\n",
    "import torch"
   ],
   "id": "7c7e8dc13c1f1471",
   "execution_count": 6,
   "outputs": []
  },
  {
   "metadata": {
    "ExecuteTime": {
     "end_time": "2024-05-13T05:37:11.022077Z",
     "start_time": "2024-05-13T05:37:10.715572Z"
    }
   },
   "cell_type": "code",
   "source": [
    "alexnet = models.AlexNet()\n",
    "print(alexnet)"
   ],
   "id": "ab485caa60356240",
   "execution_count": 3,
   "outputs": []
  },
  {
   "metadata": {
    "ExecuteTime": {
     "end_time": "2024-05-13T05:40:46.082440Z",
     "start_time": "2024-05-13T05:40:19.030203Z"
    }
   },
   "cell_type": "code",
   "source": "resnet = models.resnet101(weights = ResNet101_Weights.IMAGENET1K_V1 )",
   "id": "3d46cb9fd34680ad",
   "execution_count": 5,
   "outputs": []
  },
  {
   "metadata": {
    "ExecuteTime": {
     "end_time": "2024-05-13T05:45:20.736310Z",
     "start_time": "2024-05-13T05:45:20.732233Z"
    }
   },
   "cell_type": "code",
   "source": [
    "x = torch.tensor([1, 2, 3, 4])\n",
    "x.shape"
   ],
   "id": "131b7db0b178a259",
   "execution_count": 16,
   "outputs": []
  },
  {
   "metadata": {
    "ExecuteTime": {
     "end_time": "2024-05-13T05:45:17.278550Z",
     "start_time": "2024-05-13T05:45:17.274909Z"
    }
   },
   "cell_type": "code",
   "source": [
    "x = torch.unsqueeze(x, 0)\n",
    "x.shape"
   ],
   "id": "7eba30a5d614526f",
   "execution_count": 15,
   "outputs": []
  },
  {
   "metadata": {
    "ExecuteTime": {
     "end_time": "2024-05-13T05:45:29.201697Z",
     "start_time": "2024-05-13T05:45:29.197555Z"
    }
   },
   "cell_type": "code",
   "source": [
    "x = torch.unsqueeze(x, 1)\n",
    "x.shape"
   ],
   "id": "aef0a0297a941d40",
   "execution_count": 19,
   "outputs": []
  },
  {
   "metadata": {
    "ExecuteTime": {
     "end_time": "2024-05-13T05:57:42.527396Z",
     "start_time": "2024-05-13T05:57:42.522284Z"
    }
   },
   "cell_type": "code",
   "source": [
    "a = torch.randn(2, 4)\n",
    "a"
   ],
   "id": "a3f4305b93c7bf34",
   "execution_count": 39,
   "outputs": []
  },
  {
   "metadata": {
    "ExecuteTime": {
     "end_time": "2024-05-13T05:56:56.974323Z",
     "start_time": "2024-05-13T05:56:56.970150Z"
    }
   },
   "cell_type": "code",
   "source": "a[0][1]",
   "id": "b163000a1a2f109f",
   "execution_count": 35,
   "outputs": []
  },
  {
   "metadata": {
    "ExecuteTime": {
     "end_time": "2024-05-13T05:57:44.711660Z",
     "start_time": "2024-05-13T05:57:44.706058Z"
    }
   },
   "cell_type": "code",
   "source": "torch.max(a, 1)",
   "id": "29798034c1605c27",
   "execution_count": 40,
   "outputs": []
  },
  {
   "metadata": {
    "ExecuteTime": {
     "end_time": "2024-05-13T05:52:58.702324Z",
     "start_time": "2024-05-13T05:52:58.697302Z"
    }
   },
   "cell_type": "code",
   "source": "torch.max(a)",
   "id": "24a8949964629a30",
   "execution_count": 26,
   "outputs": []
  },
  {
   "metadata": {
    "ExecuteTime": {
     "end_time": "2024-05-13T05:57:53.076436Z",
     "start_time": "2024-05-13T05:57:53.071264Z"
    }
   },
   "cell_type": "code",
   "source": "torch.max(a, 0)",
   "id": "1ffb9fd4f73d9119",
   "execution_count": 42,
   "outputs": []
  },
  {
   "metadata": {
    "ExecuteTime": {
     "end_time": "2024-05-13T05:59:18.122259Z",
     "start_time": "2024-05-13T05:59:18.117331Z"
    }
   },
   "cell_type": "code",
   "source": "a",
   "id": "7d7dc3b81e74226e",
   "execution_count": 43,
   "outputs": []
  },
  {
   "metadata": {
    "ExecuteTime": {
     "end_time": "2024-05-13T05:59:40.513500Z",
     "start_time": "2024-05-13T05:59:40.504924Z"
    }
   },
   "cell_type": "code",
   "source": "torch.sort(a, dim=0, descending=True)",
   "id": "d6172eeacbc28c9e",
   "execution_count": 44,
   "outputs": []
  },
  {
   "metadata": {
    "ExecuteTime": {
     "end_time": "2024-05-13T06:00:14.376820Z",
     "start_time": "2024-05-13T06:00:14.372146Z"
    }
   },
   "cell_type": "code",
   "source": "torch.sort(a, dim=1, descending=True)",
   "id": "12732d163905679d",
   "execution_count": 45,
   "outputs": []
  },
  {
   "metadata": {
    "ExecuteTime": {
     "end_time": "2024-05-13T07:08:09.810293Z",
     "start_time": "2024-05-13T07:08:09.778441Z"
    }
   },
   "cell_type": "code",
   "source": "torch.cos(a)",
   "id": "cdb0bd0827124277",
   "execution_count": 46,
   "outputs": []
  },
  {
   "metadata": {
    "ExecuteTime": {
     "end_time": "2024-05-13T10:14:15.844279Z",
     "start_time": "2024-05-13T10:14:15.831149Z"
    }
   },
   "cell_type": "code",
   "source": "import torch.nn as nn",
   "id": "4dc8e590c7448369",
   "execution_count": 47,
   "outputs": []
  },
  {
   "metadata": {
    "ExecuteTime": {
     "end_time": "2024-05-13T10:14:19.079297Z",
     "start_time": "2024-05-13T10:14:19.050444Z"
    }
   },
   "cell_type": "code",
   "source": [
    "# Example of target with class indices\n",
    "loss = nn.CrossEntropyLoss()\n",
    "input = torch.randn(3, 5, requires_grad=True)\n",
    "target = torch.empty(3, dtype=torch.long).random_(5)\n",
    "output = loss(input, target)\n",
    "output.backward()\n"
   ],
   "id": "edeb6567aac675aa",
   "execution_count": 48,
   "outputs": []
  },
  {
   "metadata": {
    "ExecuteTime": {
     "end_time": "2024-05-13T10:14:57.650139Z",
     "start_time": "2024-05-13T10:14:57.646428Z"
    }
   },
   "cell_type": "code",
   "source": [
    "print(\"Input shape : \", input.shape)\n",
    "print(\"Target shape : \", target.shape)\n",
    "print(\"Output shape : \", output.shape)"
   ],
   "id": "375a4b5c5f8867e2",
   "execution_count": 50,
   "outputs": []
  },
  {
   "metadata": {
    "ExecuteTime": {
     "end_time": "2024-05-13T10:15:27.572776Z",
     "start_time": "2024-05-13T10:15:27.560650Z"
    }
   },
   "cell_type": "code",
   "source": "print(input)",
   "id": "c7d5f07a7a904324",
   "execution_count": 51,
   "outputs": []
  },
  {
   "metadata": {
    "ExecuteTime": {
     "end_time": "2024-05-13T10:15:46.920988Z",
     "start_time": "2024-05-13T10:15:46.917091Z"
    }
   },
   "cell_type": "code",
   "source": "print(target)\n",
   "id": "d66c10cd09fbfe80",
   "execution_count": 53,
   "outputs": []
  },
  {
   "metadata": {
    "ExecuteTime": {
     "end_time": "2024-05-13T10:16:17.290791Z",
     "start_time": "2024-05-13T10:16:17.282901Z"
    }
   },
   "cell_type": "code",
   "source": "target.sum(dim=1)",
   "id": "b03e708c94dcdbf5",
   "execution_count": 54,
   "outputs": []
  },
  {
   "metadata": {
    "ExecuteTime": {
     "end_time": "2024-05-13T10:16:58.839029Z",
     "start_time": "2024-05-13T10:16:58.832701Z"
    }
   },
   "cell_type": "code",
   "source": "input.sum(dim=1)",
   "id": "17d3ca0e4ce27441",
   "execution_count": 55,
   "outputs": []
  },
  {
   "metadata": {
    "ExecuteTime": {
     "end_time": "2024-05-13T10:14:21.501970Z",
     "start_time": "2024-05-13T10:14:21.490626Z"
    }
   },
   "cell_type": "code",
   "source": [
    "# Example of target with class probabilities\n",
    "input = torch.randn(3, 5, requires_grad=True)\n",
    "target = torch.randn(3, 5).softmax(dim=1)\n",
    "output = loss(input, target)\n",
    "output.backward()"
   ],
   "id": "2106cf17c44930b8",
   "execution_count": 49,
   "outputs": []
  },
  {
   "metadata": {
    "ExecuteTime": {
     "end_time": "2024-05-21T05:41:11.404818Z",
     "start_time": "2024-05-21T05:41:11.400310Z"
    }
   },
   "cell_type": "code",
   "source": [
    "import torch\n",
    "\n",
    "mat = torch.zeros((2,3) + (4,8))\n",
    "print(mat.shape)"
   ],
   "id": "882b2ea655ec2956",
   "execution_count": 5,
   "outputs": []
  },
  {
   "metadata": {},
   "cell_type": "code",
   "execution_count": null,
   "source": "",
   "id": "40360cfb6dbd4f8a",
   "outputs": []
  }
 ],
 "metadata": {
  "kernelspec": {
   "display_name": "Python 3",
   "language": "python",
   "name": "python3"
  },
  "language_info": {
   "codemirror_mode": {
    "name": "ipython",
    "version": 2
   },
   "file_extension": ".py",
   "mimetype": "text/x-python",
   "name": "python",
   "nbconvert_exporter": "python",
   "pygments_lexer": "ipython2",
   "version": "2.7.6"
  }
 },
 "nbformat": 4,
 "nbformat_minor": 5
}
