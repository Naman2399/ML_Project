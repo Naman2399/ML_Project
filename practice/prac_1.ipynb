{
 "cells": [
  {
   "cell_type": "code",
   "id": "initial_id",
   "metadata": {
    "collapsed": true,
    "ExecuteTime": {
     "end_time": "2024-05-13T05:31:33.541174Z",
     "start_time": "2024-05-13T05:31:33.135869Z"
    }
   },
   "source": "import numpy as np",
   "outputs": [],
   "execution_count": 1
  },
  {
   "metadata": {
    "ExecuteTime": {
     "end_time": "2024-05-13T05:43:58.620219Z",
     "start_time": "2024-05-13T05:43:58.617158Z"
    }
   },
   "cell_type": "code",
   "source": [
    "from torchvision import models\n",
    "from torchvision.models import ResNet101_Weights\n",
    "import torch"
   ],
   "id": "7c7e8dc13c1f1471",
   "outputs": [],
   "execution_count": 6
  },
  {
   "metadata": {
    "ExecuteTime": {
     "end_time": "2024-05-13T05:37:11.022077Z",
     "start_time": "2024-05-13T05:37:10.715572Z"
    }
   },
   "cell_type": "code",
   "source": [
    "alexnet = models.AlexNet()\n",
    "print(alexnet)"
   ],
   "id": "ab485caa60356240",
   "outputs": [
    {
     "name": "stdout",
     "output_type": "stream",
     "text": [
      "AlexNet(\n",
      "  (features): Sequential(\n",
      "    (0): Conv2d(3, 64, kernel_size=(11, 11), stride=(4, 4), padding=(2, 2))\n",
      "    (1): ReLU(inplace=True)\n",
      "    (2): MaxPool2d(kernel_size=3, stride=2, padding=0, dilation=1, ceil_mode=False)\n",
      "    (3): Conv2d(64, 192, kernel_size=(5, 5), stride=(1, 1), padding=(2, 2))\n",
      "    (4): ReLU(inplace=True)\n",
      "    (5): MaxPool2d(kernel_size=3, stride=2, padding=0, dilation=1, ceil_mode=False)\n",
      "    (6): Conv2d(192, 384, kernel_size=(3, 3), stride=(1, 1), padding=(1, 1))\n",
      "    (7): ReLU(inplace=True)\n",
      "    (8): Conv2d(384, 256, kernel_size=(3, 3), stride=(1, 1), padding=(1, 1))\n",
      "    (9): ReLU(inplace=True)\n",
      "    (10): Conv2d(256, 256, kernel_size=(3, 3), stride=(1, 1), padding=(1, 1))\n",
      "    (11): ReLU(inplace=True)\n",
      "    (12): MaxPool2d(kernel_size=3, stride=2, padding=0, dilation=1, ceil_mode=False)\n",
      "  )\n",
      "  (avgpool): AdaptiveAvgPool2d(output_size=(6, 6))\n",
      "  (classifier): Sequential(\n",
      "    (0): Dropout(p=0.5, inplace=False)\n",
      "    (1): Linear(in_features=9216, out_features=4096, bias=True)\n",
      "    (2): ReLU(inplace=True)\n",
      "    (3): Dropout(p=0.5, inplace=False)\n",
      "    (4): Linear(in_features=4096, out_features=4096, bias=True)\n",
      "    (5): ReLU(inplace=True)\n",
      "    (6): Linear(in_features=4096, out_features=1000, bias=True)\n",
      "  )\n",
      ")\n"
     ]
    }
   ],
   "execution_count": 3
  },
  {
   "metadata": {
    "ExecuteTime": {
     "end_time": "2024-05-13T05:40:46.082440Z",
     "start_time": "2024-05-13T05:40:19.030203Z"
    }
   },
   "cell_type": "code",
   "source": "resnet = models.resnet101(weights = ResNet101_Weights.IMAGENET1K_V1 )",
   "id": "3d46cb9fd34680ad",
   "outputs": [
    {
     "name": "stderr",
     "output_type": "stream",
     "text": [
      "Downloading: \"https://download.pytorch.org/models/resnet101-63fe2227.pth\" to C:\\Users\\Naman/.cache\\torch\\hub\\checkpoints\\resnet101-63fe2227.pth\n",
      "100%|██████████| 171M/171M [00:26<00:00, 6.85MB/s] \n"
     ]
    }
   ],
   "execution_count": 5
  },
  {
   "metadata": {
    "ExecuteTime": {
     "end_time": "2024-05-13T05:45:20.736310Z",
     "start_time": "2024-05-13T05:45:20.732233Z"
    }
   },
   "cell_type": "code",
   "source": [
    "x = torch.tensor([1, 2, 3, 4])\n",
    "x.shape"
   ],
   "id": "131b7db0b178a259",
   "outputs": [
    {
     "data": {
      "text/plain": [
       "torch.Size([4])"
      ]
     },
     "execution_count": 16,
     "metadata": {},
     "output_type": "execute_result"
    }
   ],
   "execution_count": 16
  },
  {
   "metadata": {
    "ExecuteTime": {
     "end_time": "2024-05-13T05:45:17.278550Z",
     "start_time": "2024-05-13T05:45:17.274909Z"
    }
   },
   "cell_type": "code",
   "source": [
    "x = torch.unsqueeze(x, 0)\n",
    "x.shape"
   ],
   "id": "7eba30a5d614526f",
   "outputs": [
    {
     "data": {
      "text/plain": [
       "torch.Size([1, 4])"
      ]
     },
     "execution_count": 15,
     "metadata": {},
     "output_type": "execute_result"
    }
   ],
   "execution_count": 15
  },
  {
   "metadata": {
    "ExecuteTime": {
     "end_time": "2024-05-13T05:45:29.201697Z",
     "start_time": "2024-05-13T05:45:29.197555Z"
    }
   },
   "cell_type": "code",
   "source": [
    "x = torch.unsqueeze(x, 1)\n",
    "x.shape"
   ],
   "id": "aef0a0297a941d40",
   "outputs": [
    {
     "data": {
      "text/plain": [
       "torch.Size([4, 1])"
      ]
     },
     "execution_count": 19,
     "metadata": {},
     "output_type": "execute_result"
    }
   ],
   "execution_count": 19
  },
  {
   "metadata": {
    "ExecuteTime": {
     "end_time": "2024-05-13T05:57:42.527396Z",
     "start_time": "2024-05-13T05:57:42.522284Z"
    }
   },
   "cell_type": "code",
   "source": [
    "a = torch.randn(2, 4)\n",
    "a"
   ],
   "id": "a3f4305b93c7bf34",
   "outputs": [
    {
     "data": {
      "text/plain": [
       "tensor([[-0.3642, -0.8122,  1.7385,  0.3957],\n",
       "        [-0.5702, -0.1112,  0.3370, -0.9829]])"
      ]
     },
     "execution_count": 39,
     "metadata": {},
     "output_type": "execute_result"
    }
   ],
   "execution_count": 39
  },
  {
   "metadata": {
    "ExecuteTime": {
     "end_time": "2024-05-13T05:56:56.974323Z",
     "start_time": "2024-05-13T05:56:56.970150Z"
    }
   },
   "cell_type": "code",
   "source": "a[0][1]",
   "id": "b163000a1a2f109f",
   "outputs": [
    {
     "data": {
      "text/plain": [
       "tensor(-0.8825)"
      ]
     },
     "execution_count": 35,
     "metadata": {},
     "output_type": "execute_result"
    }
   ],
   "execution_count": 35
  },
  {
   "metadata": {
    "ExecuteTime": {
     "end_time": "2024-05-13T05:57:44.711660Z",
     "start_time": "2024-05-13T05:57:44.706058Z"
    }
   },
   "cell_type": "code",
   "source": "torch.max(a, 1)",
   "id": "29798034c1605c27",
   "outputs": [
    {
     "data": {
      "text/plain": [
       "torch.return_types.max(\n",
       "values=tensor([1.7385, 0.3370]),\n",
       "indices=tensor([2, 2]))"
      ]
     },
     "execution_count": 40,
     "metadata": {},
     "output_type": "execute_result"
    }
   ],
   "execution_count": 40
  },
  {
   "metadata": {
    "ExecuteTime": {
     "end_time": "2024-05-13T05:52:58.702324Z",
     "start_time": "2024-05-13T05:52:58.697302Z"
    }
   },
   "cell_type": "code",
   "source": "torch.max(a)",
   "id": "24a8949964629a30",
   "outputs": [
    {
     "data": {
      "text/plain": [
       "tensor(1.9584)"
      ]
     },
     "execution_count": 26,
     "metadata": {},
     "output_type": "execute_result"
    }
   ],
   "execution_count": 26
  },
  {
   "metadata": {
    "ExecuteTime": {
     "end_time": "2024-05-13T05:57:53.076436Z",
     "start_time": "2024-05-13T05:57:53.071264Z"
    }
   },
   "cell_type": "code",
   "source": "torch.max(a, 0)",
   "id": "1ffb9fd4f73d9119",
   "outputs": [
    {
     "data": {
      "text/plain": [
       "torch.return_types.max(\n",
       "values=tensor([-0.3642, -0.1112,  1.7385,  0.3957]),\n",
       "indices=tensor([0, 1, 0, 0]))"
      ]
     },
     "execution_count": 42,
     "metadata": {},
     "output_type": "execute_result"
    }
   ],
   "execution_count": 42
  },
  {
   "metadata": {
    "ExecuteTime": {
     "end_time": "2024-05-13T05:59:18.122259Z",
     "start_time": "2024-05-13T05:59:18.117331Z"
    }
   },
   "cell_type": "code",
   "source": "a",
   "id": "7d7dc3b81e74226e",
   "outputs": [
    {
     "data": {
      "text/plain": [
       "tensor([[-0.3642, -0.8122,  1.7385,  0.3957],\n",
       "        [-0.5702, -0.1112,  0.3370, -0.9829]])"
      ]
     },
     "execution_count": 43,
     "metadata": {},
     "output_type": "execute_result"
    }
   ],
   "execution_count": 43
  },
  {
   "metadata": {
    "ExecuteTime": {
     "end_time": "2024-05-13T05:59:40.513500Z",
     "start_time": "2024-05-13T05:59:40.504924Z"
    }
   },
   "cell_type": "code",
   "source": "torch.sort(a, dim=0, descending=True)",
   "id": "d6172eeacbc28c9e",
   "outputs": [
    {
     "data": {
      "text/plain": [
       "torch.return_types.sort(\n",
       "values=tensor([[-0.3642, -0.1112,  1.7385,  0.3957],\n",
       "        [-0.5702, -0.8122,  0.3370, -0.9829]]),\n",
       "indices=tensor([[0, 1, 0, 0],\n",
       "        [1, 0, 1, 1]]))"
      ]
     },
     "execution_count": 44,
     "metadata": {},
     "output_type": "execute_result"
    }
   ],
   "execution_count": 44
  },
  {
   "metadata": {
    "ExecuteTime": {
     "end_time": "2024-05-13T06:00:14.376820Z",
     "start_time": "2024-05-13T06:00:14.372146Z"
    }
   },
   "cell_type": "code",
   "source": "torch.sort(a, dim=1, descending=True)",
   "id": "12732d163905679d",
   "outputs": [
    {
     "data": {
      "text/plain": [
       "torch.return_types.sort(\n",
       "values=tensor([[ 1.7385,  0.3957, -0.3642, -0.8122],\n",
       "        [ 0.3370, -0.1112, -0.5702, -0.9829]]),\n",
       "indices=tensor([[2, 3, 0, 1],\n",
       "        [2, 1, 0, 3]]))"
      ]
     },
     "execution_count": 45,
     "metadata": {},
     "output_type": "execute_result"
    }
   ],
   "execution_count": 45
  },
  {
   "metadata": {
    "ExecuteTime": {
     "end_time": "2024-05-13T07:08:09.810293Z",
     "start_time": "2024-05-13T07:08:09.778441Z"
    }
   },
   "cell_type": "code",
   "source": "torch.cos(a)",
   "id": "cdb0bd0827124277",
   "outputs": [
    {
     "data": {
      "text/plain": [
       "tensor([[ 0.9344,  0.6879, -0.1669,  0.9227],\n",
       "        [ 0.8418,  0.9938,  0.9437,  0.5546]])"
      ]
     },
     "execution_count": 46,
     "metadata": {},
     "output_type": "execute_result"
    }
   ],
   "execution_count": 46
  },
  {
   "metadata": {
    "ExecuteTime": {
     "end_time": "2024-05-13T10:14:15.844279Z",
     "start_time": "2024-05-13T10:14:15.831149Z"
    }
   },
   "cell_type": "code",
   "source": "import torch.nn as nn",
   "id": "4dc8e590c7448369",
   "outputs": [],
   "execution_count": 47
  },
  {
   "metadata": {
    "ExecuteTime": {
     "end_time": "2024-05-13T10:14:19.079297Z",
     "start_time": "2024-05-13T10:14:19.050444Z"
    }
   },
   "cell_type": "code",
   "source": [
    "# Example of target with class indices\n",
    "loss = nn.CrossEntropyLoss()\n",
    "input = torch.randn(3, 5, requires_grad=True)\n",
    "target = torch.empty(3, dtype=torch.long).random_(5)\n",
    "output = loss(input, target)\n",
    "output.backward()\n"
   ],
   "id": "edeb6567aac675aa",
   "outputs": [],
   "execution_count": 48
  },
  {
   "metadata": {
    "ExecuteTime": {
     "end_time": "2024-05-13T10:14:57.650139Z",
     "start_time": "2024-05-13T10:14:57.646428Z"
    }
   },
   "cell_type": "code",
   "source": [
    "print(\"Input shape : \", input.shape)\n",
    "print(\"Target shape : \", target.shape)\n",
    "print(\"Output shape : \", output.shape)"
   ],
   "id": "375a4b5c5f8867e2",
   "outputs": [
    {
     "name": "stdout",
     "output_type": "stream",
     "text": [
      "Input shape :  torch.Size([3, 5])\n",
      "Target shape :  torch.Size([3, 5])\n",
      "Output shape :  torch.Size([])\n"
     ]
    }
   ],
   "execution_count": 50
  },
  {
   "metadata": {
    "ExecuteTime": {
     "end_time": "2024-05-13T10:15:27.572776Z",
     "start_time": "2024-05-13T10:15:27.560650Z"
    }
   },
   "cell_type": "code",
   "source": "print(input)",
   "id": "c7d5f07a7a904324",
   "outputs": [
    {
     "name": "stdout",
     "output_type": "stream",
     "text": [
      "tensor([[-1.6604, -1.3080, -1.0912, -1.7825, -1.5898],\n",
      "        [-1.1296,  1.7312, -1.4950,  1.2069, -0.9937],\n",
      "        [-0.3546,  1.6221, -0.6936, -0.8118,  0.6960]], requires_grad=True)\n"
     ]
    }
   ],
   "execution_count": 51
  },
  {
   "metadata": {
    "ExecuteTime": {
     "end_time": "2024-05-13T10:15:46.920988Z",
     "start_time": "2024-05-13T10:15:46.917091Z"
    }
   },
   "cell_type": "code",
   "source": "print(target)\n",
   "id": "d66c10cd09fbfe80",
   "outputs": [
    {
     "name": "stdout",
     "output_type": "stream",
     "text": [
      "tensor([[0.1493, 0.3914, 0.2978, 0.0659, 0.0955],\n",
      "        [0.2462, 0.0788, 0.1328, 0.2106, 0.3316],\n",
      "        [0.0477, 0.0445, 0.0151, 0.8636, 0.0290]])\n"
     ]
    }
   ],
   "execution_count": 53
  },
  {
   "metadata": {
    "ExecuteTime": {
     "end_time": "2024-05-13T10:16:17.290791Z",
     "start_time": "2024-05-13T10:16:17.282901Z"
    }
   },
   "cell_type": "code",
   "source": "target.sum(dim=1)",
   "id": "b03e708c94dcdbf5",
   "outputs": [
    {
     "data": {
      "text/plain": [
       "tensor([1.0000, 1.0000, 1.0000])"
      ]
     },
     "execution_count": 54,
     "metadata": {},
     "output_type": "execute_result"
    }
   ],
   "execution_count": 54
  },
  {
   "metadata": {
    "ExecuteTime": {
     "end_time": "2024-05-13T10:16:58.839029Z",
     "start_time": "2024-05-13T10:16:58.832701Z"
    }
   },
   "cell_type": "code",
   "source": "input.sum(dim=1)",
   "id": "17d3ca0e4ce27441",
   "outputs": [
    {
     "data": {
      "text/plain": [
       "tensor([-7.4318, -0.6802,  0.4581], grad_fn=<SumBackward1>)"
      ]
     },
     "execution_count": 55,
     "metadata": {},
     "output_type": "execute_result"
    }
   ],
   "execution_count": 55
  },
  {
   "metadata": {
    "ExecuteTime": {
     "end_time": "2024-05-13T10:14:21.501970Z",
     "start_time": "2024-05-13T10:14:21.490626Z"
    }
   },
   "cell_type": "code",
   "source": [
    "# Example of target with class probabilities\n",
    "input = torch.randn(3, 5, requires_grad=True)\n",
    "target = torch.randn(3, 5).softmax(dim=1)\n",
    "output = loss(input, target)\n",
    "output.backward()"
   ],
   "id": "2106cf17c44930b8",
   "outputs": [],
   "execution_count": 49
  }
 ],
 "metadata": {
  "kernelspec": {
   "display_name": "Python 3",
   "language": "python",
   "name": "python3"
  },
  "language_info": {
   "codemirror_mode": {
    "name": "ipython",
    "version": 2
   },
   "file_extension": ".py",
   "mimetype": "text/x-python",
   "name": "python",
   "nbconvert_exporter": "python",
   "pygments_lexer": "ipython2",
   "version": "2.7.6"
  }
 },
 "nbformat": 4,
 "nbformat_minor": 5
}
