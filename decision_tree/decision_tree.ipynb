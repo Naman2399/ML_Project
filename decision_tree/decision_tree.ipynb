{
 "cells": [
  {
   "metadata": {
    "ExecuteTime": {
     "end_time": "2024-05-19T14:08:10.025901Z",
     "start_time": "2024-05-19T14:08:10.012571Z"
    }
   },
   "cell_type": "code",
   "source": [
    "import numpy as np # linear algebra\n",
    "import pandas as pd # data processing, CSV file I/O (e.g. pd.read_csv)\n",
    "import matplotlib.pyplot as plt # data visualization\n",
    "import seaborn as sns # statistical data visualization\n",
    "%matplotlib inline"
   ],
   "id": "265bff7e20114048",
   "execution_count": 1,
   "outputs": []
  },
  {
   "metadata": {},
   "cell_type": "markdown",
   "source": "# Dataset preparation",
   "id": "5b016c69a157e342"
  },
  {
   "metadata": {
    "ExecuteTime": {
     "end_time": "2024-05-19T14:08:10.041871Z",
     "start_time": "2024-05-19T14:08:10.027417Z"
    }
   },
   "cell_type": "code",
   "source": [
    "data = 'D:\\\\Placement\\\\ML_Project\\\\dataset\\\\car.csv'\n",
    "df = pd.read_csv(data, header=None)\n",
    "print(\"Dataframe shape : \", df.shape)\n",
    "df.head()"
   ],
   "id": "initial_id",
   "execution_count": 2,
   "outputs": []
  },
  {
   "metadata": {
    "ExecuteTime": {
     "end_time": "2024-05-19T14:08:10.050692Z",
     "start_time": "2024-05-19T14:08:10.042383Z"
    }
   },
   "cell_type": "code",
   "source": [
    "# Renaming of column names \n",
    "col_names = ['buying', 'maint', 'doors', 'persons', 'lug_boot', 'safety', 'class']\n",
    "df.columns = col_names\n",
    "df.head()"
   ],
   "id": "9f53b9bcbfd53c66",
   "execution_count": 3,
   "outputs": []
  },
  {
   "metadata": {
    "ExecuteTime": {
     "end_time": "2024-05-19T14:08:10.064471Z",
     "start_time": "2024-05-19T14:08:10.051355Z"
    }
   },
   "cell_type": "code",
   "source": "df.describe()",
   "id": "149fe15c0935faf7",
   "execution_count": 4,
   "outputs": []
  },
  {
   "metadata": {
    "ExecuteTime": {
     "end_time": "2024-05-19T14:08:10.070641Z",
     "start_time": "2024-05-19T14:08:10.065483Z"
    }
   },
   "cell_type": "code",
   "source": "df['buying'].value_counts()",
   "id": "50d384df80593636",
   "execution_count": 5,
   "outputs": []
  },
  {
   "metadata": {
    "ExecuteTime": {
     "end_time": "2024-05-19T14:08:10.077190Z",
     "start_time": "2024-05-19T14:08:10.070641Z"
    }
   },
   "cell_type": "code",
   "source": [
    "# check missing values in variables\n",
    "df.isnull().sum()"
   ],
   "id": "1bd680894c2a4b83",
   "execution_count": 6,
   "outputs": []
  },
  {
   "metadata": {},
   "cell_type": "markdown",
   "source": "## Dataset distribution in features and labels ",
   "id": "af3002a30db6ddba"
  },
  {
   "metadata": {
    "ExecuteTime": {
     "end_time": "2024-05-19T14:08:10.082705Z",
     "start_time": "2024-05-19T14:08:10.078487Z"
    }
   },
   "cell_type": "code",
   "source": [
    "X = df.drop(['class'], axis=1)\n",
    "y = df['class']\n",
    "\n",
    "print(\"X shape : \", X.shape)\n",
    "print(\"y shape : \", y.shape)"
   ],
   "id": "5776e729bedcea03",
   "execution_count": 7,
   "outputs": []
  },
  {
   "metadata": {
    "ExecuteTime": {
     "end_time": "2024-05-19T14:08:44.041812Z",
     "start_time": "2024-05-19T14:08:44.035216Z"
    }
   },
   "cell_type": "code",
   "source": [
    "# split X and y into training and testing sets\n",
    "from sklearn.model_selection import train_test_split\n",
    "X_train, X_test, y_train, y_test = train_test_split(X, y, test_size = 0.33, random_state = 42)\n",
    "print(\"X_train : \", X_train.shape)\n",
    "print(\"X_test : \", X_test.shape)\n",
    "print(\"Y_train : \", y_train.shape)\n",
    "print(\"Y_test : \", y_test.shape)"
   ],
   "id": "2ec639adc5ae614d",
   "execution_count": 9,
   "outputs": []
  },
  {
   "metadata": {},
   "cell_type": "markdown",
   "source": "### Encoding of features values to numbers",
   "id": "cd41058fa688837a"
  },
  {
   "metadata": {
    "ExecuteTime": {
     "end_time": "2024-05-19T14:11:19.672808Z",
     "start_time": "2024-05-19T14:11:03.031476Z"
    }
   },
   "cell_type": "code",
   "source": "! pip install --upgrade category_encoders",
   "id": "acca01555eb251e7",
   "execution_count": 10,
   "outputs": []
  },
  {
   "metadata": {
    "ExecuteTime": {
     "end_time": "2024-05-19T14:12:19.546856Z",
     "start_time": "2024-05-19T14:12:19.376359Z"
    }
   },
   "cell_type": "code",
   "source": [
    "# import category encoders\n",
    "import category_encoders as ce \n",
    "# encode variables with ordinal encoding\n",
    "encoder = ce.OrdinalEncoder(cols=['buying', 'maint', 'doors', 'persons', 'lug_boot', 'safety'])\n",
    "X_train = encoder.fit_transform(X_train)\n",
    "X_test = encoder.transform(X_test)\n"
   ],
   "id": "e4fbd4cd720e8e66",
   "execution_count": 11,
   "outputs": []
  },
  {
   "metadata": {
    "ExecuteTime": {
     "end_time": "2024-05-19T14:12:29.485766Z",
     "start_time": "2024-05-19T14:12:29.478762Z"
    }
   },
   "cell_type": "code",
   "source": "X_train.head()",
   "id": "e856b07d9146a14",
   "execution_count": 12,
   "outputs": []
  },
  {
   "metadata": {},
   "cell_type": "markdown",
   "source": "# Decision Tree Classifier with criterion gini index",
   "id": "d9299cfd0088425a"
  },
  {
   "metadata": {
    "ExecuteTime": {
     "end_time": "2024-05-19T14:13:34.302065Z",
     "start_time": "2024-05-19T14:13:33.969031Z"
    }
   },
   "cell_type": "code",
   "source": [
    "# import DecisionTreeClassifier\n",
    "from sklearn.tree import DecisionTreeClassifier\n",
    "# instantiate the DecisionTreeClassifier model with criterion gini index\n",
    "clf_gini = DecisionTreeClassifier(criterion='gini', max_depth=3, random_state=0)\n",
    "# fit the model\n",
    "clf_gini.fit(X_train, y_train)\n",
    "y_pred_gini = clf_gini.predict(X_test)"
   ],
   "id": "a1f9d6459edf6495",
   "execution_count": 13,
   "outputs": []
  },
  {
   "metadata": {},
   "cell_type": "markdown",
   "source": "Check accuracy score with criterion gini index",
   "id": "f558612f0cd13048"
  },
  {
   "metadata": {
    "ExecuteTime": {
     "end_time": "2024-05-19T14:14:01.200090Z",
     "start_time": "2024-05-19T14:14:01.195522Z"
    }
   },
   "cell_type": "code",
   "source": [
    "from sklearn.metrics import accuracy_score\n",
    "print('Model accuracy score with criterion gini index: {0:0.4f}'. format(accuracy_score(y_test, y_pred_gini)))"
   ],
   "id": "feddd7489eb2c7b5",
   "execution_count": 14,
   "outputs": []
  },
  {
   "metadata": {
    "ExecuteTime": {
     "end_time": "2024-05-19T14:14:30.528671Z",
     "start_time": "2024-05-19T14:14:30.522080Z"
    }
   },
   "cell_type": "code",
   "source": [
    "y_pred_train_gini = clf_gini.predict(X_train)\n",
    "print('Training-set accuracy score: {0:0.4f}'. format(accuracy_score(y_train, y_pred_train_gini)))"
   ],
   "id": "8b1da0c66a273ac0",
   "execution_count": 16,
   "outputs": []
  },
  {
   "metadata": {
    "ExecuteTime": {
     "end_time": "2024-05-19T14:14:49.413842Z",
     "start_time": "2024-05-19T14:14:49.404837Z"
    }
   },
   "cell_type": "code",
   "source": [
    "# print the scores on training and test set\n",
    "print('Training set score: {:.4f}'.format(clf_gini.score(X_train, y_train)))\n",
    "print('Test set score: {:.4f}'.format(clf_gini.score(X_test, y_test)))"
   ],
   "id": "f720aec7abefe4f2",
   "execution_count": 17,
   "outputs": []
  },
  {
   "metadata": {},
   "cell_type": "markdown",
   "source": "# Visualizing Decision Tree",
   "id": "e8bf64806919dbd6"
  },
  {
   "metadata": {
    "ExecuteTime": {
     "end_time": "2024-05-19T14:32:42.106679Z",
     "start_time": "2024-05-19T14:32:41.795922Z"
    }
   },
   "cell_type": "code",
   "source": [
    "plt.figure(figsize=(12,8))\n",
    "from sklearn import tree\n",
    "tree.plot_tree(clf_gini.fit(X_train, y_train)) "
   ],
   "id": "1770da3ff637db12",
   "execution_count": 18,
   "outputs": []
  },
  {
   "metadata": {
    "ExecuteTime": {
     "end_time": "2024-05-19T14:33:28.032675Z",
     "start_time": "2024-05-19T14:33:27.926993Z"
    }
   },
   "cell_type": "code",
   "source": [
    "import graphviz \n",
    "dot_data = tree.export_graphviz(clf_gini, out_file=None, \n",
    "                              feature_names=X_train.columns,  \n",
    "                              class_names=y_train,  \n",
    "                              filled=True, rounded=True,  \n",
    "                              special_characters=True)\n",
    "\n",
    "graph = graphviz.Source(dot_data) \n",
    "graph "
   ],
   "id": "9c9d2dc30d419f32",
   "execution_count": 21,
   "outputs": []
  },
  {
   "metadata": {},
   "cell_type": "markdown",
   "source": "Decision Tree Classifier with criterion entropy",
   "id": "2d3e9086a84018db"
  },
  {
   "metadata": {
    "ExecuteTime": {
     "end_time": "2024-05-19T14:35:08.197943Z",
     "start_time": "2024-05-19T14:35:08.182315Z"
    }
   },
   "cell_type": "code",
   "source": [
    "# instantiate the DecisionTreeClassifier model with criterion entropy\n",
    "clf_en = DecisionTreeClassifier(criterion='entropy', max_depth=3, random_state=0)\n",
    "# fit the model\n",
    "clf_en.fit(X_train, y_train)"
   ],
   "id": "ac6cc33d306c7251",
   "execution_count": 22,
   "outputs": []
  },
  {
   "metadata": {
    "ExecuteTime": {
     "end_time": "2024-05-19T14:36:00.337406Z",
     "start_time": "2024-05-19T14:36:00.329139Z"
    }
   },
   "cell_type": "code",
   "source": [
    "y_pred_en = clf_en.predict(X_test)\n",
    "from sklearn.metrics import accuracy_score\n",
    "print('Model accuracy score with criterion entropy: {0:0.4f}'. format(accuracy_score(y_test, y_pred_en)))\n",
    "y_pred_train_en = clf_en.predict(X_train)\n",
    "print('Training-set accuracy score: {0:0.4f}'. format(accuracy_score(y_train, y_pred_train_en)))"
   ],
   "id": "3506388ba23f8ac",
   "execution_count": 24,
   "outputs": []
  },
  {
   "metadata": {},
   "cell_type": "markdown",
   "source": "Check for overfitting and underfitting",
   "id": "11f87daa5331c725"
  },
  {
   "metadata": {
    "ExecuteTime": {
     "end_time": "2024-05-19T14:36:36.864704Z",
     "start_time": "2024-05-19T14:36:36.856038Z"
    }
   },
   "cell_type": "code",
   "source": [
    "# print the scores on training and test set\n",
    "print('Training set score: {:.4f}'.format(clf_en.score(X_train, y_train)))\n",
    "print('Test set score: {:.4f}'.format(clf_en.score(X_test, y_test)))"
   ],
   "id": "bc092ee2b168b244",
   "execution_count": 25,
   "outputs": []
  },
  {
   "metadata": {
    "ExecuteTime": {
     "end_time": "2024-05-19T14:36:47.071298Z",
     "start_time": "2024-05-19T14:36:46.784473Z"
    }
   },
   "cell_type": "code",
   "source": [
    "plt.figure(figsize=(12,8))\n",
    "from sklearn import tree\n",
    "tree.plot_tree(clf_en.fit(X_train, y_train)) "
   ],
   "id": "9d797b31f8f2d78b",
   "execution_count": 26,
   "outputs": []
  },
  {
   "metadata": {},
   "cell_type": "markdown",
   "source": "Confusion Matrix    ",
   "id": "1aaf06c68fd83f9"
  },
  {
   "metadata": {
    "ExecuteTime": {
     "end_time": "2024-05-19T14:37:19.216295Z",
     "start_time": "2024-05-19T14:37:19.209041Z"
    }
   },
   "cell_type": "code",
   "source": [
    "# Print the Confusion Matrix and slice it into four pieces\n",
    "from sklearn.metrics import confusion_matrix\n",
    "cm = confusion_matrix(y_test, y_pred_en)\n",
    "print('Confusion matrix\\n\\n', cm)"
   ],
   "id": "59e935b740575bd8",
   "execution_count": 27,
   "outputs": []
  },
  {
   "metadata": {},
   "cell_type": "markdown",
   "source": "Classification Report",
   "id": "7629ac42536bd8c"
  },
  {
   "metadata": {
    "ExecuteTime": {
     "end_time": "2024-05-19T14:37:47.407871Z",
     "start_time": "2024-05-19T14:37:47.366845Z"
    }
   },
   "cell_type": "code",
   "source": [
    "from sklearn.metrics import classification_report\n",
    "print(classification_report(y_test, y_pred_en))"
   ],
   "id": "a218fd4733afdbe3",
   "execution_count": 28,
   "outputs": []
  },
  {
   "metadata": {},
   "cell_type": "code",
   "execution_count": null,
   "source": "",
   "id": "46dfb67ccb63c1cc",
   "outputs": []
  }
 ],
 "metadata": {
  "kernelspec": {
   "display_name": "Python 3",
   "language": "python",
   "name": "python3"
  },
  "language_info": {
   "codemirror_mode": {
    "name": "ipython",
    "version": 2
   },
   "file_extension": ".py",
   "mimetype": "text/x-python",
   "name": "python",
   "nbconvert_exporter": "python",
   "pygments_lexer": "ipython2",
   "version": "2.7.6"
  }
 },
 "nbformat": 4,
 "nbformat_minor": 5
}
