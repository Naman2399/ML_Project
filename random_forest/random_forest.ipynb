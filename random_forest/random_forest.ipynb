{
 "cells": [
  {
   "cell_type": "code",
   "id": "initial_id",
   "metadata": {
    "collapsed": true,
    "ExecuteTime": {
     "end_time": "2024-05-19T15:09:06.622627Z",
     "start_time": "2024-05-19T15:09:06.615540Z"
    }
   },
   "source": [
    "import numpy as np # linear algebra\n",
    "import pandas as pd # data processing, CSV file I/O (e.g. pd.read_csv)\n",
    "import matplotlib.pyplot as plt # data visualization\n",
    "import seaborn as sns # statistical data visualization\n",
    "%matplotlib inline"
   ],
   "execution_count": 34,
   "outputs": []
  },
  {
   "metadata": {
    "ExecuteTime": {
     "end_time": "2024-05-19T15:09:46.872802Z",
     "start_time": "2024-05-19T15:09:46.863532Z"
    }
   },
   "cell_type": "code",
   "source": [
    "data = 'D:\\\\Placement\\\\ML_Project\\\\dataset\\\\car.csv'\n",
    "df = pd.read_csv(data, header=None)\n",
    "print(\"Dataframe shape : \", df.shape)\n",
    "df.head()"
   ],
   "id": "ce7d0f3997a92778",
   "execution_count": 43,
   "outputs": []
  },
  {
   "metadata": {
    "ExecuteTime": {
     "end_time": "2024-05-19T15:09:49.515152Z",
     "start_time": "2024-05-19T15:09:49.507289Z"
    }
   },
   "cell_type": "code",
   "source": [
    "# Renaming of column names \n",
    "col_names = ['buying', 'maint', 'doors', 'persons', 'lug_boot', 'safety', 'class']\n",
    "df.columns = col_names\n",
    "df.head()"
   ],
   "id": "580402958485e20d",
   "execution_count": 44,
   "outputs": []
  },
  {
   "metadata": {
    "ExecuteTime": {
     "end_time": "2024-05-19T15:09:51.014380Z",
     "start_time": "2024-05-19T15:09:51.000780Z"
    }
   },
   "cell_type": "code",
   "source": "df.describe()\n",
   "id": "1e296ebafc9acd9c",
   "execution_count": 45,
   "outputs": []
  },
  {
   "metadata": {
    "ExecuteTime": {
     "end_time": "2024-05-19T15:09:52.464971Z",
     "start_time": "2024-05-19T15:09:52.459224Z"
    }
   },
   "cell_type": "code",
   "source": "df['buying'].value_counts()\n",
   "id": "66d876123e425c20",
   "execution_count": 46,
   "outputs": []
  },
  {
   "metadata": {
    "ExecuteTime": {
     "end_time": "2024-05-19T14:47:46.663251Z",
     "start_time": "2024-05-19T14:47:46.655801Z"
    }
   },
   "cell_type": "code",
   "source": [
    "# check missing values in variables\n",
    "df.isnull().sum()"
   ],
   "id": "d77f6159826d3375",
   "execution_count": 6,
   "outputs": []
  },
  {
   "metadata": {
    "ExecuteTime": {
     "end_time": "2024-05-19T14:47:53.524080Z",
     "start_time": "2024-05-19T14:47:53.518688Z"
    }
   },
   "cell_type": "code",
   "source": [
    "X = df.drop(['class'], axis=1)\n",
    "y = df['class']\n",
    "\n",
    "print(\"X shape : \", X.shape)\n",
    "print(\"y shape : \", y.shape)"
   ],
   "id": "92ecd19935cbf1fe",
   "execution_count": 7,
   "outputs": []
  },
  {
   "metadata": {
    "ExecuteTime": {
     "end_time": "2024-05-19T14:47:59.578499Z",
     "start_time": "2024-05-19T14:47:59.447731Z"
    }
   },
   "cell_type": "code",
   "source": [
    "# split X and y into training and testing sets\n",
    "from sklearn.model_selection import train_test_split\n",
    "X_train, X_test, y_train, y_test = train_test_split(X, y, test_size = 0.33, random_state = 42)\n",
    "print(\"X_train : \", X_train.shape)\n",
    "print(\"X_test : \", X_test.shape)\n",
    "print(\"Y_train : \", y_train.shape)\n",
    "print(\"Y_test : \", y_test.shape)"
   ],
   "id": "45fbb0f66e546e9b",
   "execution_count": 8,
   "outputs": []
  },
  {
   "metadata": {
    "ExecuteTime": {
     "end_time": "2024-05-19T14:48:08.793243Z",
     "start_time": "2024-05-19T14:48:08.686971Z"
    }
   },
   "cell_type": "code",
   "source": [
    "# import category encoders\n",
    "import category_encoders as ce \n",
    "# encode variables with ordinal encoding\n",
    "encoder = ce.OrdinalEncoder(cols=['buying', 'maint', 'doors', 'persons', 'lug_boot', 'safety'])\n",
    "X_train = encoder.fit_transform(X_train)\n",
    "X_test = encoder.transform(X_test)\n"
   ],
   "id": "3025da924dd20f7a",
   "execution_count": 9,
   "outputs": []
  },
  {
   "metadata": {
    "ExecuteTime": {
     "end_time": "2024-05-19T14:48:13.896536Z",
     "start_time": "2024-05-19T14:48:13.890069Z"
    }
   },
   "cell_type": "code",
   "source": "X_train.head()\n",
   "id": "dcbd8df4d8a9495d",
   "execution_count": 10,
   "outputs": []
  },
  {
   "metadata": {},
   "cell_type": "markdown",
   "source": "# Random Forest     ",
   "id": "836fb33d893d7067"
  },
  {
   "metadata": {
    "ExecuteTime": {
     "end_time": "2024-05-19T14:49:15.791581Z",
     "start_time": "2024-05-19T14:49:15.287752Z"
    }
   },
   "cell_type": "code",
   "source": [
    "# import Random Forest classifier\n",
    "\n",
    "from sklearn.ensemble import RandomForestClassifier\n",
    "# instantiate the classifier \n",
    "rfc = RandomForestClassifier(random_state=0)\n",
    "# fit the model\n",
    "rfc.fit(X_train, y_train)\n",
    "# Predict the Test set results\n",
    "y_pred = rfc.predict(X_test)\n",
    "\n",
    "# Check accuracy score \n",
    "from sklearn.metrics import accuracy_score\n",
    "print('Model accuracy score with 10 decision-trees : {0:0.4f}'. format(accuracy_score(y_test, y_pred)))"
   ],
   "id": "14ebc0226c765cbf",
   "execution_count": 11,
   "outputs": []
  },
  {
   "metadata": {
    "ExecuteTime": {
     "end_time": "2024-05-19T14:50:11.646921Z",
     "start_time": "2024-05-19T14:50:11.522428Z"
    }
   },
   "cell_type": "code",
   "source": [
    "# instantiate the classifier with n_estimators = 100\n",
    "\n",
    "rfc_100 = RandomForestClassifier(n_estimators=100, random_state=0)\n",
    "# fit the model to the training set\n",
    "rfc_100.fit(X_train, y_train)\n",
    "# Predict on the test set results\n",
    "y_pred_100 = rfc_100.predict(X_test)\n",
    "\n",
    "# Check accuracy score \n",
    "print('Model accuracy score with 100 decision-trees : {0:0.4f}'. format(accuracy_score(y_test, y_pred_100)))"
   ],
   "id": "c341d6dd1174357a",
   "execution_count": 12,
   "outputs": []
  },
  {
   "metadata": {},
   "cell_type": "markdown",
   "source": "# Important features with Random Forest Model",
   "id": "c8234c81fc14c4b"
  },
  {
   "metadata": {
    "ExecuteTime": {
     "end_time": "2024-05-19T14:51:19.940696Z",
     "start_time": "2024-05-19T14:51:19.813742Z"
    }
   },
   "cell_type": "code",
   "source": [
    "# create the classifier with n_estimators = 100\n",
    "clf = RandomForestClassifier(n_estimators=100, random_state=0)\n",
    "# fit the model to the training set\n",
    "clf.fit(X_train, y_train)\n",
    "\n",
    "\n",
    "# view the feature scores\n",
    "feature_scores = pd.Series(clf.feature_importances_, index=X_train.columns).sort_values(ascending=False)\n",
    "feature_scores"
   ],
   "id": "30c3a688949f82ff",
   "execution_count": 14,
   "outputs": []
  },
  {
   "metadata": {
    "ExecuteTime": {
     "end_time": "2024-05-19T14:52:02.943504Z",
     "start_time": "2024-05-19T14:52:02.775085Z"
    }
   },
   "cell_type": "code",
   "source": [
    "# Creating a seaborn bar plot\n",
    "sns.barplot(x=feature_scores, y=feature_scores.index)\n",
    "# Add labels to the graph\n",
    "plt.xlabel('Feature Importance Score')\n",
    "plt.ylabel('Features')\n",
    "# Add title to the graph\n",
    "plt.title(\"Visualizing Important Features\")\n",
    "# Visualize the graph\n",
    "plt.show()"
   ],
   "id": "95639763bfa131ab",
   "execution_count": 15,
   "outputs": []
  },
  {
   "metadata": {},
   "cell_type": "markdown",
   "source": [
    "Build Random Forest model on selected features\n",
    "\n",
    "Now, I will drop the least important feature doors from the model, rebuild the model and check its effect on accuracy."
   ],
   "id": "e406e3490152550f"
  },
  {
   "metadata": {
    "ExecuteTime": {
     "end_time": "2024-05-19T15:11:46.698828Z",
     "start_time": "2024-05-19T15:11:46.684765Z"
    }
   },
   "cell_type": "code",
   "source": [
    "df.head()\n",
    "df.drop(['class', 'lug_boot', 'doors'], axis= 1)"
   ],
   "id": "b5767dd09e9c021a",
   "execution_count": 58,
   "outputs": []
  },
  {
   "metadata": {
    "ExecuteTime": {
     "end_time": "2024-05-19T15:12:30.497224Z",
     "start_time": "2024-05-19T15:12:30.472529Z"
    }
   },
   "cell_type": "code",
   "source": [
    "# declare feature vector and target variable\n",
    "X = df.drop(['class', 'doors'], axis= 1)\n",
    "y = df['class']\n",
    "print(X.head())\n",
    "\n",
    "# split data into training and testing sets\n",
    "from sklearn.model_selection import train_test_split\n",
    "X_train, X_test, y_train, y_test = train_test_split(X, y, test_size = 0.33, random_state = 42)\n",
    "\n",
    "\n",
    "# encode categorical variables with ordinal encoding\n",
    "encoder = ce.OrdinalEncoder(cols=['buying', 'maint', 'persons', 'lug_boot', 'safety'])\n",
    "X_train = encoder.fit_transform(X_train)\n",
    "X_test = encoder.transform(X_test)\n",
    "\n"
   ],
   "id": "809b36ca2f65751b",
   "execution_count": 60,
   "outputs": []
  },
  {
   "metadata": {
    "ExecuteTime": {
     "end_time": "2024-05-19T14:56:16.784708Z",
     "start_time": "2024-05-19T14:56:16.666181Z"
    }
   },
   "cell_type": "code",
   "source": [
    "# instantiate the classifier with n_estimators = 100\n",
    "\n",
    "clf = RandomForestClassifier(random_state=0)\n",
    "# fit the model to the training set\n",
    "clf.fit(X_train, y_train)\n",
    "# Predict on the test set results\n",
    "y_pred = clf.predict(X_test)\n",
    "\n",
    "\n",
    "# Check accuracy score \n",
    "print('Model accuracy score with doors variable removed : {0:0.4f}'. format(accuracy_score(y_test, y_pred)))\n"
   ],
   "id": "797eaf8fd5a26884",
   "execution_count": 27,
   "outputs": []
  },
  {
   "metadata": {
    "ExecuteTime": {
     "end_time": "2024-05-19T15:07:51.207526Z",
     "start_time": "2024-05-19T15:07:51.200639Z"
    }
   },
   "cell_type": "code",
   "source": [
    "# Print the Confusion Matrix and slice it into four pieces\n",
    "from sklearn.metrics import confusion_matrix\n",
    "cm = confusion_matrix(y_test, y_pred)\n",
    "print('Confusion matrix\\n\\n', cm)"
   ],
   "id": "2e033b1fe47901c4",
   "execution_count": 28,
   "outputs": []
  },
  {
   "metadata": {
    "ExecuteTime": {
     "end_time": "2024-05-19T15:08:03.313661Z",
     "start_time": "2024-05-19T15:08:03.293933Z"
    }
   },
   "cell_type": "code",
   "source": [
    "from sklearn.metrics import classification_report\n",
    "print(classification_report(y_test, y_pred))"
   ],
   "id": "d32be899106222ef",
   "execution_count": 29,
   "outputs": []
  },
  {
   "metadata": {},
   "cell_type": "code",
   "execution_count": null,
   "source": "",
   "id": "194bef360a29b2be",
   "outputs": []
  }
 ],
 "metadata": {
  "kernelspec": {
   "display_name": "Python 3",
   "language": "python",
   "name": "python3"
  },
  "language_info": {
   "codemirror_mode": {
    "name": "ipython",
    "version": 2
   },
   "file_extension": ".py",
   "mimetype": "text/x-python",
   "name": "python",
   "nbconvert_exporter": "python",
   "pygments_lexer": "ipython2",
   "version": "2.7.6"
  }
 },
 "nbformat": 4,
 "nbformat_minor": 5
}
