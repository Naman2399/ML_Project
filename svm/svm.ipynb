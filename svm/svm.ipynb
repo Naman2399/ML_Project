{
 "cells": [
  {
   "metadata": {},
   "cell_type": "markdown",
   "source": "# Preparing Dataset",
   "id": "72678e5eb2c963e0"
  },
  {
   "metadata": {
    "ExecuteTime": {
     "end_time": "2024-05-19T08:16:14.348337Z",
     "start_time": "2024-05-19T08:16:13.509466Z"
    }
   },
   "cell_type": "code",
   "source": [
    "import random\n",
    "import numpy as np\n",
    "import pandas as pd\n",
    "import matplotlib.pyplot as plt\n",
    "def generate_random_dataset(size):\n",
    "    \"\"\" Generate a random dataset and that follows a quadratic  distribution\n",
    "    \"\"\"\n",
    "    x = []\n",
    "    y = []\n",
    "    target = []\n",
    "    for i in range(size):\n",
    "        # class zero\n",
    "        x.append(np.round(random.uniform(0, 2.5), 1))\n",
    "        y.append(np.round(random.uniform(0, 20), 1))\n",
    "        target.append(0)\n",
    "        # class one\n",
    "        x.append(np.round(random.uniform(1, 5), 2))\n",
    "        y.append(np.round(random.uniform(20, 25), 2))\n",
    "        target.append(1)\n",
    "        x.append(np.round(random.uniform(3, 5), 2))\n",
    "        y.append(np.round(random.uniform(5, 25), 2))\n",
    "        target.append(1)\n",
    "    df_x = pd.DataFrame(data=x)\n",
    "    df_y = pd.DataFrame(data=y)\n",
    "    df_target = pd.DataFrame(data=target)\n",
    "    data_frame = pd.concat([df_x, df_y], ignore_index=True, axis=1)\n",
    "    data_frame = pd.concat([data_frame, df_target], ignore_index=True, axis=1)\n",
    "    data_frame.columns = ['x', 'y', 'target']\n",
    "    return data_frame\n",
    "\n",
    "# Generate dataset\n",
    "size = 100\n",
    "dataset = generate_random_dataset(size)\n",
    "features = dataset[['x', 'y']]\n",
    "label = dataset['target']\n",
    "# Hold out 20% of the dataset for training\n",
    "test_size = int(np.round(size * 0.2, 0))\n",
    "# Split dataset into training and testing sets\n",
    "x_train = features[:-test_size].values\n",
    "y_train = label[:-test_size].values\n",
    "x_test = features[-test_size:].values\n",
    "y_test = label[-test_size:].values\n",
    "# Plotting the training set\n",
    "fig, ax = plt.subplots(figsize=(12, 7))\n",
    "# removing to and right border\n",
    "ax.spines['top'].set_visible(False)\n",
    "ax.spines['left'].set_visible(False)\n",
    "ax.spines['right'].set_visible(False)\n",
    "# adding major gridlines\n",
    "ax.grid(color='grey', linestyle='-', linewidth=0.25, alpha=0.5)\n",
    "ax.scatter(features[:-test_size]['x'], features[:-test_size]['y'], color=\"#8C7298\")\n",
    "plt.show()"
   ],
   "id": "initial_id",
   "execution_count": 1,
   "outputs": []
  },
  {
   "metadata": {
    "ExecuteTime": {
     "end_time": "2024-05-19T08:17:48.218973Z",
     "start_time": "2024-05-19T08:17:45.085911Z"
    }
   },
   "cell_type": "code",
   "source": [
    "from sklearn import svm\n",
    "model = svm.SVC(kernel='poly', degree=2)\n",
    "model.fit(x_train, y_train)"
   ],
   "id": "bb80d58e68b51cf9",
   "execution_count": 2,
   "outputs": []
  },
  {
   "metadata": {
    "ExecuteTime": {
     "end_time": "2024-05-19T08:18:26.839305Z",
     "start_time": "2024-05-19T08:18:26.598610Z"
    }
   },
   "cell_type": "code",
   "source": [
    "fig, ax = plt.subplots(figsize=(12, 7))\n",
    "# Removing to and right border\n",
    "ax.spines['top'].set_visible(False)\n",
    "ax.spines['left'].set_visible(False)\n",
    "ax.spines['right'].set_visible(False)\n",
    "# Create grid to evaluate model\n",
    "xx = np.linspace(-1, max(features['x']) + 1, len(x_train))\n",
    "yy = np.linspace(0, max(features['y']) + 1, len(y_train))\n",
    "YY, XX = np.meshgrid(yy, xx)\n",
    "xy = np.vstack([XX.ravel(), YY.ravel()]).T\n",
    "train_size = len(features[:-test_size]['x'])\n",
    "# Assigning different colors to the classes\n",
    "colors = y_train\n",
    "colors = np.where(colors == 1, '#8C7298', '#4786D1')\n",
    "# Plot the dataset\n",
    "ax.scatter(features[:-test_size]['x'], features[:-test_size]['y'], c=colors)\n",
    "# Get the separating hyperplane\n",
    "Z = model.decision_function(xy).reshape(XX.shape)\n",
    "# Draw the decision boundary and margins\n",
    "ax.contour(XX, YY, Z, colors='k', levels=[-1, 0, 1], alpha=0.5, linestyles=['--', '-', '--'])\n",
    "# Highlight support vectors with a circle around them\n",
    "ax.scatter(model.support_vectors_[:, 0], model.support_vectors_[:, 1], s=100, linewidth=1, facecolors='none', edgecolors='k')\n",
    "plt.show()"
   ],
   "id": "f6af25825c223de4",
   "execution_count": 3,
   "outputs": []
  },
  {
   "metadata": {
    "ExecuteTime": {
     "end_time": "2024-05-19T08:29:39.032408Z",
     "start_time": "2024-05-19T08:29:39.028386Z"
    }
   },
   "cell_type": "code",
   "source": [
    "print(\"XX : \", type(XX), XX.shape)\n",
    "print(\"YY : \", type(YY), YY.shape)\n",
    "print(\"Z : \", type(Z), Z.shape)"
   ],
   "id": "f4669faa785b6671",
   "execution_count": 7,
   "outputs": []
  },
  {
   "metadata": {
    "ExecuteTime": {
     "end_time": "2024-05-19T08:30:29.049421Z",
     "start_time": "2024-05-19T08:30:29.044512Z"
    }
   },
   "cell_type": "code",
   "source": [
    "from sklearn.metrics import accuracy_score\n",
    "predictions_poly = model.predict(x_test)\n",
    "accuracy_poly = accuracy_score(y_test, predictions_poly)\n",
    "print(\"2nd degree polynomial Kernel\\nAccuracy (normalized): \" + str(accuracy_poly))"
   ],
   "id": "44bee075aa52714f",
   "execution_count": 8,
   "outputs": []
  },
  {
   "metadata": {
    "ExecuteTime": {
     "end_time": "2024-05-19T08:30:37.948694Z",
     "start_time": "2024-05-19T08:30:37.941490Z"
    }
   },
   "cell_type": "code",
   "source": [
    "model = svm.SVC(kernel='linear')\n",
    "model.fit(x_train, y_train)"
   ],
   "id": "70639aa45cdbe4d1",
   "execution_count": 9,
   "outputs": []
  },
  {
   "metadata": {
    "ExecuteTime": {
     "end_time": "2024-05-19T08:31:01.901707Z",
     "start_time": "2024-05-19T08:31:01.746428Z"
    }
   },
   "cell_type": "code",
   "source": [
    "fig, ax = plt.subplots(figsize=(12, 7))\n",
    "# Removing to and right border\n",
    "ax.spines['top'].set_visible(False)\n",
    "ax.spines['left'].set_visible(False)\n",
    "ax.spines['right'].set_visible(False)\n",
    "# Create grid to evaluate model\n",
    "xx = np.linspace(-1, max(features['x']) + 1, len(x_train))\n",
    "yy = np.linspace(0, max(features['y']) + 1, len(y_train))\n",
    "YY, XX = np.meshgrid(yy, xx)\n",
    "xy = np.vstack([XX.ravel(), YY.ravel()]).T\n",
    "train_size = len(features[:-test_size]['x'])\n",
    "# Assigning different colors to the classes\n",
    "colors = y_train\n",
    "colors = np.where(colors == 1, '#8C7298', '#4786D1')\n",
    "# Plot the dataset\n",
    "ax.scatter(features[:-test_size]['x'], features[:-test_size]['y'], c=colors)\n",
    "# Get the separating hyperplane\n",
    "Z = model.decision_function(xy).reshape(XX.shape)\n",
    "# Draw the decision boundary and margins\n",
    "ax.contour(XX, YY, Z, colors='k', levels=[-1, 0, 1], alpha=0.5, linestyles=['--', '-', '--'])\n",
    "# Highlight support vectors with a circle around them\n",
    "ax.scatter(model.support_vectors_[:, 0], model.support_vectors_[:, 1], s=100, linewidth=1, facecolors='none', edgecolors='k')\n",
    "plt.show()"
   ],
   "id": "68e3d9232019cddf",
   "execution_count": 10,
   "outputs": []
  },
  {
   "metadata": {},
   "cell_type": "code",
   "execution_count": null,
   "source": "",
   "id": "e72147e6e2d07a0f",
   "outputs": []
  }
 ],
 "metadata": {
  "kernelspec": {
   "display_name": "Python 3",
   "language": "python",
   "name": "python3"
  },
  "language_info": {
   "codemirror_mode": {
    "name": "ipython",
    "version": 2
   },
   "file_extension": ".py",
   "mimetype": "text/x-python",
   "name": "python",
   "nbconvert_exporter": "python",
   "pygments_lexer": "ipython2",
   "version": "2.7.6"
  }
 },
 "nbformat": 4,
 "nbformat_minor": 5
}
